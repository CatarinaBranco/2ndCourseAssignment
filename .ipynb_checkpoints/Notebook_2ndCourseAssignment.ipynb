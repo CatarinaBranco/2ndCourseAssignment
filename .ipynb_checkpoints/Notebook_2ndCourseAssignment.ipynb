{
 "cells": [
  {
   "cell_type": "markdown",
   "metadata": {},
   "source": [
    "<center>\n",
    "    <img src=\"https://s3-api.us-geo.objectstorage.softlayer.net/cf-courses-data/CognitiveClass/Logos/organization_logo/organization_logo.png\" width=\"300\" alt=\"cognitiveclass.ai logo\"  />\n",
    "</center>\n"
   ]
  },
  {
   "cell_type": "markdown",
   "metadata": {},
   "source": [
    "# My Jupyter Notebook on IBM Watson Studio"
   ]
  },
  {
   "cell_type": "markdown",
   "metadata": {},
   "source": [
    "**Catarina**\n",
    "\n",
    "I am currently a PhD student in Population Genetics. "
   ]
  },
  {
   "cell_type": "markdown",
   "metadata": {},
   "source": [
    "*I am interested in Data Science because it of major importance know how draw conclusions from large datasets in a time when the amount of data is huge, and increasing*"
   ]
  },
  {
   "cell_type": "markdown",
   "metadata": {},
   "source": [
    "### Ask the name, and introduce "
   ]
  },
  {
   "cell_type": "code",
   "execution_count": 14,
   "metadata": {},
   "outputs": [
    {
     "name": "stdin",
     "output_type": "stream",
     "text": [
      "Hi! What's your name? Mary\n"
     ]
    },
    {
     "name": "stdout",
     "output_type": "stream",
     "text": [
      "Hi Mary, I am catarina!\n"
     ]
    }
   ],
   "source": [
    "name=input(\"Hi! What's your name?\")\n",
    "print(f'Hi {name}, I am catarina!')"
   ]
  },
  {
   "cell_type": "markdown",
   "metadata": {},
   "source": [
    "### Table of the Students"
   ]
  },
  {
   "cell_type": "markdown",
   "metadata": {},
   "source": [
    "| Name| ID| Grade |\n",
    "| ---|---|---|\n",
    "| Mike | 12434 | A |\n",
    "| Jonh | 12534 | C |\n",
    "***\n",
    "| Name| ID| Grade |\n",
    "| ---|---|---|\n",
    "| Mary | 12434 | A+ |\n",
    "| Jane | 15554 | C |"
   ]
  },
  {
   "cell_type": "markdown",
   "metadata": {},
   "source": [
    "### **Teachers**: \n",
    "- Ms Pilsburg\n",
    "    - English\n",
    "- Mr Einstein\n",
    "    - Math\n",
    "- Mr Takashi\n",
    "    - Japanese"
   ]
  },
  {
   "cell_type": "markdown",
   "metadata": {},
   "source": [
    "### **Goals**:\n",
    "1. Learn to sum\n",
    "2. Learn to write their name\n",
    "3. Learn the alphabet \n",
    "    "
   ]
  },
  {
   "cell_type": "markdown",
   "metadata": {},
   "source": [
    "[For more information visit the Markdown Cheatsheet website](https://github.com/adam-p/markdown-here/wiki/Markdown-Cheatsheet#links)"
   ]
  }
 ],
 "metadata": {
  "kernelspec": {
   "display_name": "Python",
   "language": "python",
   "name": "conda-env-python-py"
  },
  "language_info": {
   "codemirror_mode": {
    "name": "ipython",
    "version": 3
   },
   "file_extension": ".py",
   "mimetype": "text/x-python",
   "name": "python",
   "nbconvert_exporter": "python",
   "pygments_lexer": "ipython3",
   "version": "3.7.12"
  }
 },
 "nbformat": 4,
 "nbformat_minor": 4
}
